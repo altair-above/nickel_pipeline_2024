{
 "cells": [
  {
   "cell_type": "code",
   "execution_count": 1,
   "metadata": {},
   "outputs": [],
   "source": [
    "from pathlib import Path\n",
    "from astropy.io import fits\n",
    "import numpy as np\n",
    "import matplotlib.pyplot as plt\n",
    "import math"
   ]
  },
  {
   "cell_type": "code",
   "execution_count": 2,
   "metadata": {},
   "outputs": [],
   "source": [
    "def plot_histo(bin_edges, counts, image, header):\n",
    "    \"\"\"Uses matplotlib to graph a histogram based on output from numpy np.histogram()\"\"\"\n",
    "    plt.bar(bin_edges[:-1], counts, width=np.diff(bin_edges), edgecolor='black', align='edge')\n",
    "    plt.yscale('log')\n",
    "    # Add titles and labels\n",
    "    plt.title(f'Histogram of Counts in Image {image.name} ({header[\"OBJECT\"]}) (Log Scale)')\n",
    "    plt.xlabel('Value')\n",
    "    plt.ylabel('Frequency')\n",
    "    # Show the plot\n",
    "    plt.show()"
   ]
  },
  {
   "cell_type": "code",
   "execution_count": 3,
   "metadata": {},
   "outputs": [],
   "source": [
    "image_bias_1 = Path(\"C:/Users/allis/Documents/2024-2025_Local/Akamai Internship/pipeline-testing/test-data-05-12/raw/d1004.fits\")\n",
    "image_bias_2 = Path(\"C:/Users/allis/Documents/2024-2025_Local/Akamai Internship/pipeline-testing/test-data-05-12/raw/d1005.fits\")\n",
    "\n",
    "image_domeflat_1 = Path(\"C:/Users/allis/Documents/2024-2025_Local/Akamai Internship/pipeline-testing/test-data-05-12/raw-proc/unbias/d1017.fits\")\n",
    "image_domeflat_2 = Path(\"C:/Users/allis/Documents/2024-2025_Local/Akamai Internship/pipeline-testing/test-data-05-12/raw-proc/unbias/d1018.fits\")\n",
    "\n",
    "image_skyflat_1 = Path(\"C:/Users/allis/Documents/2024-2025_Local/Akamai Internship/pipeline-testing/test-data-05-12/raw-proc/unbias/d1036.fits\")\n",
    "image_skyflat_2 = Path(\"C:/Users/allis/Documents/2024-2025_Local/Akamai Internship/pipeline-testing/test-data-05-12/raw-proc/unbias/d1035.fits\")\n",
    "\n",
    "image_obj_1 = Path(\"C:/Users/allis/Documents/2024-2025_Local/Akamai Internship/pipeline-testing/test-data-05-12/raw-proc/unbias/d1062.fits\")\n",
    "image_obj_2 = Path(\"C:/Users/allis/Documents/2024-2025_Local/Akamai Internship/pipeline-testing/test-data-05-12/raw-proc/unbias/d1063.fits\")\n",
    "\n",
    "# image_obj_1 = Path(\"C:/Users/allis/Documents/2024-2025_Local/Akamai Internship/pipeline-testing/test-data-05-12/raw-proc/unbias/d1055.fits\")\n",
    "# image_obj_2 = Path(\"C:/Users/allis/Documents/2024-2025_Local/Akamai Internship/pipeline-testing/test-data-05-12/raw-proc/unbias/d1056.fits\")\n",
    "\n",
    "# image_obj_1 = Path(\"C:/Users/allis/Documents/2024-2025_Local/Akamai Internship/pipeline-testing/test-data-05-12/raw-proc/unbias/d1072.fits\")\n",
    "# image_obj_2 = Path(\"C:/Users/allis/Documents/2024-2025_Local/Akamai Internship/pipeline-testing/test-data-05-12/raw-proc/unbias/d1073.fits\")\n",
    "\n",
    "\n",
    "images = [image_bias_1, image_bias_2, image_domeflat_1, image_domeflat_2, image_obj_1, image_obj_2]\n",
    "images = [image_bias_1, image_bias_2, image_skyflat_1, image_skyflat_2, image_obj_1, image_obj_2]\n",
    "\n",
    "# images = [image_domeflat_1, image_domeflat_2,]"
   ]
  },
  {
   "cell_type": "code",
   "execution_count": 4,
   "metadata": {},
   "outputs": [],
   "source": [
    "bin_width = 20\n",
    "num_images = len(images)\n",
    "\n",
    "obj_counts = {}\n",
    "data_all = {}\n",
    "bins_all = {}\n",
    "data_avg_all = {}\n",
    "data_diff_all = {}\n",
    "\n",
    "for i, image in enumerate(images):\n",
    "    with fits.open(image) as hdu:\n",
    "        header = hdu[0].header\n",
    "        \n",
    "        objname = header[\"OBJECT\"]\n",
    "        if objname not in data_all:\n",
    "            obj_counts[objname] = 0\n",
    "            data_all[objname] = []\n",
    "            bins_all[objname] = []\n",
    "            data_diff_all[objname] = []\n",
    "        \n",
    "        data_single = hdu[0].data\n",
    "        # Delete hot columns / cool columns\n",
    "        data_single = np.delete(data_single, [256, 783, 784, 1002], axis=1)\n",
    "\n",
    "        data_all[objname].append(data_single)\n",
    "        obj_counts[objname] += 1\n",
    "        \n",
    "        # # Calculate number of histogram bins, based on range of data\n",
    "        # num_bins = int((np.max(data_single)-np.min(data_single))/bin_width) + 1\n",
    "        # # Create the histogram -- counts = frequency within each bin, bin_edges = values at bin boundaries\n",
    "        # counts, bin_edges = np.histogram(data_single, bins=num_bins)\n",
    "        \n",
    "        # # Plot histogram using matplotlib\n",
    "        # plot_histo(bin_edges, counts, image, header)"
   ]
  },
  {
   "cell_type": "markdown",
   "metadata": {},
   "source": [
    "Calculate the average pixel value between all images of the same object/type"
   ]
  },
  {
   "cell_type": "code",
   "execution_count": 5,
   "metadata": {},
   "outputs": [],
   "source": [
    "data_avg_max_all = []\n",
    "data_avg_min_all = []\n",
    "\n",
    "for objname in obj_counts:\n",
    "    data_avg = np.stack(data_all[objname]).mean(axis=0)\n",
    "    data_avg_all[objname] = np.stack(data_all[objname]).mean(axis=0)\n",
    "    data_avg_max_all.append(np.max(data_avg))\n",
    "    data_avg_min_all.append(np.min(data_avg))\n",
    "    for i in range(obj_counts[objname]):\n",
    "        data_diff_all[objname].append(data_all[objname][i] - data_avg)\n",
    "data_avg_max = max(data_avg_max_all)\n",
    "data_avg_min = min(data_avg_min_all)"
   ]
  },
  {
   "cell_type": "markdown",
   "metadata": {},
   "source": [
    "Fill the histogram bins with the actual pixel values that fall within their range"
   ]
  },
  {
   "cell_type": "code",
   "execution_count": 6,
   "metadata": {},
   "outputs": [],
   "source": [
    "num_bins_all = int((data_avg_max-data_avg_min)/bin_width) + 1\n",
    "bins_avgs = [[] for _ in range(num_bins_all)]\n",
    "bins_diffs = [[] for _ in range(num_bins_all)]\n",
    "\n",
    "for objname in obj_counts:\n",
    "    for index, value in np.ndenumerate(data_avg_all[objname]):\n",
    "        bin_index = int(np.floor((value - data_avg_min) / bin_width))\n",
    "        for i in range(obj_counts[objname]):\n",
    "            bins_diffs[bin_index].append(data_diff_all[objname][i][*index])\n",
    "        bins_avgs[bin_index].append(value)"
   ]
  },
  {
   "cell_type": "markdown",
   "metadata": {},
   "source": [
    "Create a histogram of all the values in just one bin"
   ]
  },
  {
   "cell_type": "code",
   "execution_count": 7,
   "metadata": {},
   "outputs": [],
   "source": [
    "counts_per_bin = [len(bin) for bin in bins_diffs]\n",
    "bin_to_analyze = np.argmax(counts_per_bin)\n",
    "\n",
    "def bin_histo(bins, bin_index):\n",
    "    # Create the histogram -- counts = frequency within each bin, bin_edges = values at bin boundaries\n",
    "    subcounts, subbin_edges = np.histogram(bins[bin_index], bins=int(bin_width), )\n",
    "    # Plot histogram using matplotlib\n",
    "    plot_histo(subbin_edges, subcounts, image, header)\n",
    "\n",
    "# bin_histo(bins_diffs, bin_to_analyze)"
   ]
  },
  {
   "cell_type": "markdown",
   "metadata": {},
   "source": [
    "Find the mean and standard deviation for all bins"
   ]
  },
  {
   "cell_type": "code",
   "execution_count": 8,
   "metadata": {},
   "outputs": [],
   "source": [
    "means = []\n",
    "sds = []\n",
    "\n",
    "# for i, bins in enumerate(bins_all):\n",
    "for bin_index in range(len(bins_diffs)):\n",
    "    if len(bins_diffs[bin_index]) > 50:\n",
    "        sd = np.std(bins_diffs[bin_index])\n",
    "        mean = np.mean(bins_avgs[bin_index])\n",
    "        if sd != 0 and mean > 0 and mean < 55000:\n",
    "            means.append(mean)\n",
    "            sds.append(sd)\n",
    "\n",
    "def plot_means_sds(means, sds, image, header):\n",
    "    # Plot the scatter plot\n",
    "    plt.scatter(means, sds)\n",
    "    plt.xscale('log')\n",
    "    plt.yscale('log')\n",
    "    # Add titles and labels\n",
    "    plt.title(f'SD vs. Mean Plot for {image.name} ({header[\"OBJECT\"]})')\n",
    "    plt.xlabel('Mean of all values in a bin')\n",
    "    plt.ylabel('Standard Deviation of all values in a bin')\n",
    "    # Show the plot\n",
    "    plt.show()\n",
    "\n",
    "# plot_means_sds(means, sds, image, header)\n"
   ]
  },
  {
   "cell_type": "code",
   "execution_count": 9,
   "metadata": {},
   "outputs": [
    {
     "name": "stdout",
     "output_type": "stream",
     "text": [
      "log(SD) = 1.16 log(mean) + -3.86\n"
     ]
    },
    {
     "data": {
      "image/png": "[encoded data removed]",
      "text/plain": [
       "<Figure size 640x480 with 1 Axes>"
      ]
     },
     "metadata": {},
     "output_type": "display_data"
    }
   ],
   "source": [
    "meanlogs = [math.log(mean) for mean in means]\n",
    "sdlogs = [math.log(sd) for sd in sds]\n",
    "\n",
    "meanlogs_linear = meanlogs[15:]\n",
    "sdlogs_linear = sdlogs[15:]\n",
    "\n",
    "# Calculate the line of best fit\n",
    "coefficients = np.polyfit(meanlogs_linear, sdlogs_linear, 1)  # 1 means linear fit (degree 1)\n",
    "polynomial = np.poly1d(coefficients)\n",
    "line_of_best_fit = polynomial(meanlogs_linear)\n",
    "\n",
    "print(f\"log(SD) = {coefficients[0]:.2f} log(mean) + {coefficients[1]:.2f}\")\n",
    "\n",
    "# Plot the scatter plot\n",
    "plt.scatter(meanlogs, sdlogs)\n",
    "# Plot the line of best fit\n",
    "plt.plot(meanlogs_linear, line_of_best_fit, color='red', label='Line of Best Fit')\n",
    "\n",
    "# Add titles and labels\n",
    "plt.title(f'Log SD vs. Log of Mean Plot for {image.name} ({header[\"OBJECT\"]})')\n",
    "plt.xlabel('Log of Mean of all values in a bin')\n",
    "plt.ylabel('Log of Standard Deviation of all values in a bin')\n",
    "\n",
    "# Show the plot\n",
    "plt.show()"
   ]
  },
  {
   "cell_type": "code",
   "execution_count": 10,
   "metadata": {},
   "outputs": [],
   "source": [
    "# from display_fits import print_fits_info\n",
    "\n",
    "# for image in images:\n",
    "#     print_fits_info(image)"
   ]
  }
 ],
 "metadata": {
  "kernelspec": {
   "display_name": ".venv",
   "language": "python",
   "name": "python3"
  },
  "language_info": {
   "codemirror_mode": {
    "name": "ipython",
    "version": 3
   },
   "file_extension": ".py",
   "mimetype": "text/x-python",
   "name": "python",
   "nbconvert_exporter": "python",
   "pygments_lexer": "ipython3",
   "version": "3.11.1"
  }
 },
 "nbformat": 4,
 "nbformat_minor": 2
}
