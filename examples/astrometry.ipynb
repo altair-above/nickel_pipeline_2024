{
 "cells": [
  {
   "cell_type": "markdown",
   "metadata": {},
   "source": [
    "``astrometry_all()`` uses astrometry.net to astrometrically calibrate images that have undergone basic reduction. It saves both a FITS image (with a WCS file for coordinate conversion) and a .corr table with detected source data and errors, but returns only the paths to one file type.\n",
    "\n",
    "astrometry.net usually takes significant time to accept and solve images, and if too few stars are in an image, it will not solve. The code is currently set to time out after ~4 min.\n",
    "\n",
    "The astrometry pipeline & photometry pipeline are independent of each other, and can usually be run simultaneously (very rarely, pipelines may try to access the same file at the same time, throwing an error)."
   ]
  },
  {
   "cell_type": "code",
   "execution_count": null,
   "metadata": {},
   "outputs": [],
   "source": [
    "from nickelpipeline.pipelines.astrometry import astrometry_all"
   ]
  },
  {
   "cell_type": "markdown",
   "metadata": {},
   "source": [
    "Initialize logger to see output of functions, setting verbosity level to 'DEBUG', 'INFO', 'WARNING', 'ERROR', or 'CRITICAL'. Logs are displayed wherever code is being run (terminal, console, etc.), and 'DEBUG' level logs are always saved to a .log file."
   ]
  },
  {
   "cell_type": "code",
   "execution_count": null,
   "metadata": {},
   "outputs": [],
   "source": [
    "import logging\n",
    "from nickelpipeline.convenience.log import adjust_global_logger\n",
    "adjust_global_logger('INFO', __name__)\n",
    "logger = logging.getLogger(__name__)"
   ]
  },
  {
   "cell_type": "markdown",
   "metadata": {},
   "source": [
    "``reddir`` is the directory containing images to be calibrated. It may be the whole /reduced/ directory or an individual object directory. Files will be pulled from all subdirectories as well. \n",
    "\n",
    "With default parameters, products will be saved to a directory called /data/astrometric/ in the same parent as /data/reduced/."
   ]
  },
  {
   "cell_type": "code",
   "execution_count": null,
   "metadata": {},
   "outputs": [],
   "source": [
    "reddir = 'path/to/data/reduced/'"
   ]
  },
  {
   "cell_type": "markdown",
   "metadata": {},
   "source": [
    "To run the astrometry pipeline, you need to create an account on https://nova.astrometry.net/ and grab an API key. This is a randomly generated string tied to your user account; everything you do using this pipeline will be through your account on the Astrometry.net web service (e.g. all image uploads will show up on your web profile).\n",
    "\n",
    "Your key is available in the My Profile section of the dashboard."
   ]
  },
  {
   "cell_type": "code",
   "execution_count": null,
   "metadata": {},
   "outputs": [],
   "source": [
    "api_key = \"exampleapikey\""
   ]
  },
  {
   "cell_type": "markdown",
   "metadata": {},
   "source": [
    "With default parameters, this call saves products to data/astrometric/, outputs the paths to the calibrated FITS images w/ WCS, and skips any images with pre-existing solutions to save time."
   ]
  },
  {
   "cell_type": "code",
   "execution_count": null,
   "metadata": {},
   "outputs": [],
   "source": [
    "calib_files = astrometry_all(reddir, api_key)"
   ]
  },
  {
   "cell_type": "markdown",
   "metadata": {},
   "source": [
    "Alternatively, these parameters can be changed to specify an output directory, change the file path output, and re-solve all images, regardless of whether previously solved."
   ]
  },
  {
   "cell_type": "code",
   "execution_count": null,
   "metadata": {},
   "outputs": [],
   "source": [
    "calib_files = astrometry_all(reddir, api_key, output_dir='path/to/output', \n",
    "                             mode='corr', resolve=True)"
   ]
  },
  {
   "cell_type": "markdown",
   "metadata": {},
   "source": [
    "Astrometrically calibrated images can be viewed in DS9, which automatically converts pixel coordinates to RA/Dec coordinates. The header contains information about the WCS solution."
   ]
  }
 ],
 "metadata": {
  "language_info": {
   "name": "python"
  }
 },
 "nbformat": 4,
 "nbformat_minor": 2
}
