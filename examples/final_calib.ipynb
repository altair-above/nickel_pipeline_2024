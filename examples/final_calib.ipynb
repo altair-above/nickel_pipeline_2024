{
 "cells": [
  {
   "cell_type": "markdown",
   "metadata": {},
   "source": [
    "``final_calib_all()`` is ***currently incomplete***.\n",
    "\n",
    "It currently converts all x, y pixel coordinates to right ascension and declination world coordinates, and requires the products of both the astrometry and photometry pipelines."
   ]
  },
  {
   "cell_type": "code",
   "execution_count": null,
   "metadata": {},
   "outputs": [],
   "source": [
    "from nickelpipeline.pipelines.final_calib import final_calib_all"
   ]
  },
  {
   "cell_type": "markdown",
   "metadata": {},
   "source": [
    "Initialize logger to see output of functions, setting verbosity level to 'DEBUG', 'INFO', 'WARNING', 'ERROR', or 'CRITICAL'. Logs are displayed wherever code is being run (terminal, console, etc.), and 'DEBUG' level logs are always saved to a .log file."
   ]
  },
  {
   "cell_type": "code",
   "execution_count": null,
   "metadata": {},
   "outputs": [],
   "source": [
    "import logging\n",
    "from nickelpipeline.convenience.log import adjust_global_logger\n",
    "adjust_global_logger('INFO', __name__)\n",
    "logger = logging.getLogger(__name__)"
   ]
  },
  {
   "cell_type": "markdown",
   "metadata": {},
   "source": [
    "``photodir`` is the directory containing source tables to be updated with world coordinates. It currently *must* be the whole /consolidated/ or /unconsolidated/ directory, which contains subdirectories labelled by object name.\n",
    "\n",
    "``astrodir`` is the directory containing the astrometrically calibrated FITS images (not the .corr tables). \n",
    "\n",
    "With default parameters, .csv source tables will be saved to a directory called /data/final_calib/[astrophotsrcs or astrophotsrcs_consol] in the same parent as /data/astrometric/. Tables will be organized by object name."
   ]
  },
  {
   "cell_type": "code",
   "execution_count": null,
   "metadata": {},
   "outputs": [],
   "source": [
    "photodir = 'path/to/data/photometric/consolidated'\n",
    "astrodir = 'path/to/data/astrometric/astroimg'"
   ]
  },
  {
   "cell_type": "markdown",
   "metadata": {},
   "source": [
    "With default parameters, this call saves results in the default output directory described above. This can be modified."
   ]
  },
  {
   "cell_type": "code",
   "execution_count": null,
   "metadata": {},
   "outputs": [],
   "source": [
    "astrophot_data_tables = final_calib_all(photodir, astrodir, output_dir=None)"
   ]
  },
  {
   "cell_type": "markdown",
   "metadata": {},
   "source": [
    "These .csv source catalogs saved in the output directory can be exported to Excel or Google Sheets for further analysis.\n",
    "\n",
    "In future, this pipeline will use standard stars to convert flux counts from electrons to apparent magnitude."
   ]
  }
 ],
 "metadata": {
  "language_info": {
   "name": "python"
  }
 },
 "nbformat": 4,
 "nbformat_minor": 2
}
