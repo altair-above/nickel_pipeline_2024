{
 "cells": [
  {
   "cell_type": "markdown",
   "metadata": {},
   "source": [
    "``photometry_all()`` creates .csv tables of sources (position, flux, etc.) found in images that have undergone basic reduction.\n",
    "\n",
    "The astrometry pipeline & photometry pipeline are independent of each other, and can usually be run simultaneously (very rarely, pipelines may try to access the same file at the same time, throwing an error)."
   ]
  },
  {
   "cell_type": "code",
   "execution_count": null,
   "metadata": {},
   "outputs": [],
   "source": [
    "from nickelpipeline.pipelines.photometry import photometry_all"
   ]
  },
  {
   "cell_type": "markdown",
   "metadata": {},
   "source": [
    "Initialize logger to see output of functions, setting verbosity level to 'DEBUG', 'INFO', 'WARNING', 'ERROR', or 'CRITICAL'. Logs are displayed wherever code is being run (terminal, console, etc.), and 'DEBUG' level logs are always saved to a .log file."
   ]
  },
  {
   "cell_type": "code",
   "execution_count": null,
   "metadata": {},
   "outputs": [],
   "source": [
    "import logging\n",
    "from nickelpipeline.convenience.log import adjust_global_logger\n",
    "adjust_global_logger('INFO', __name__)\n",
    "logger = logging.getLogger(__name__)"
   ]
  },
  {
   "cell_type": "markdown",
   "metadata": {},
   "source": [
    "``reddir`` is the directory containing images to be calibrated. It currently *must* be the whole /reduced/ directory, which contains subdirectories labelled by object name. \n",
    "\n",
    "With default parameters, .csv source tables will be saved to a directory called /data/photometric/[unconsolidated or consolidated] in the same parent as /data/reduced/. Tables will be organized by object name."
   ]
  },
  {
   "cell_type": "code",
   "execution_count": null,
   "metadata": {},
   "outputs": [],
   "source": [
    "reddir = 'path/to/data/reduced/'"
   ]
  },
  {
   "cell_type": "markdown",
   "metadata": {},
   "source": [
    "With default parameters, this call: \n",
    "- Saves products to the default directory\n",
    "- Uses the default detection threshold (8.0 = detect only sources brighter than 8.0 x background STD)\n",
    "- Uses a circular Moffat fit\n",
    "- Uses the photutils setting mode = 'all' (recommended not to change--see https://photutils.readthedocs.io/en/stable/api/photutils.psf.IterativePSFPhotometry.html)"
   ]
  },
  {
   "cell_type": "code",
   "execution_count": null,
   "metadata": {},
   "outputs": [],
   "source": [
    "src_catalog_paths = photometry_all(reddir)"
   ]
  },
  {
   "cell_type": "markdown",
   "metadata": {},
   "source": [
    "Alternatively, these parameters can be changed. This example:\n",
    "- Sets its own output directory\n",
    "- Uses an elliptical Moffat fit\n",
    "- Consolidates groups of sources into one source\n",
    "- Generates matplotlib plots showing all detected sources & their fluxes\n",
    "- Generates matplotlib plots showing cutouts of all source groups to manually determine if a group should be consolidated"
   ]
  },
  {
   "cell_type": "code",
   "execution_count": null,
   "metadata": {},
   "outputs": [],
   "source": [
    "src_catalog_paths = photometry_all(reddir, output_dir='path/to/output', \n",
    "                                   thresh=15.0, group=True, fittype='ellip', \n",
    "                                   plot_final=True, plot_inters=True)"
   ]
  }
 ],
 "metadata": {
  "language_info": {
   "name": "python"
  }
 },
 "nbformat": 4,
 "nbformat_minor": 2
}
