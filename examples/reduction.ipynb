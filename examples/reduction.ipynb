{
 "cells": [
  {
   "cell_type": "code",
   "execution_count": null,
   "metadata": {},
   "outputs": [],
   "source": [
    "from pathlib import Path\n",
    "from nickelpipeline.reduction.reduction import reduce_all\n",
    "from nickelpipeline.convenience.display_fits import display_many_nickel"
   ]
  },
  {
   "cell_type": "markdown",
   "metadata": {},
   "source": [
    "Initialize logger to see output of functions, setting verbosity level to 'DEBUG', 'INFO', 'WARNING', 'ERROR', or 'CRITICAL'. Logs are displayed wherever code is being run (terminal, console, etc.), and 'DEBUG' level logs are always saved to a .log file."
   ]
  },
  {
   "cell_type": "code",
   "execution_count": null,
   "metadata": {},
   "outputs": [],
   "source": [
    "import logging\n",
    "from nickelpipeline.convenience.log import adjust_global_logger\n",
    "adjust_global_logger('INFO', __name__)\n",
    "logger = logging.getLogger(__name__)"
   ]
  },
  {
   "cell_type": "markdown",
   "metadata": {},
   "source": [
    "``rawdir`` is the directory containing all raw images. All products will be saved to a folder called /reduced/ in ``rawdir``'s parent folder. If ``save_inters`` is set to True, intermediate products will be saved to /processing/ in the same parent folder."
   ]
  },
  {
   "cell_type": "code",
   "execution_count": null,
   "metadata": {},
   "outputs": [],
   "source": [
    "rawdir = 'path/to/data/raw/'"
   ]
  },
  {
   "cell_type": "markdown",
   "metadata": {},
   "source": [
    "This call reduces all files in ``rawdir``, excluding files with ``'d1113'`` in the name or with ``'B'`` filter. It saves intermediate files (overscan subtracted, bias subtracted).\n",
    "\n",
    "This call also creates an ascii Astropy table of all files in ``rawdir`` for reference at ``table_path_out``, commenting out any files that were excluded. ``table_path_out`` must be provided if ``rawdir`` is."
   ]
  },
  {
   "cell_type": "code",
   "execution_count": null,
   "metadata": {},
   "outputs": [],
   "source": [
    "redfiles = reduce_all(rawdir=rawdir, table_path_out='reduction_files_table.tbl', \n",
    "                      save_inters=True, excl_files=['d1113'], excl_filts=['B'])"
   ]
  },
  {
   "cell_type": "markdown",
   "metadata": {},
   "source": [
    "In the table created at ``table_path_out``,  you can comment out files (such as a bad flat) to be ignored in a future call to ``reduce_all``. This table must be input to ``table_path_in`` in place of ``rawdir``. Manual exclusions can be provided here as well, but the exclusions will only be propagated to the Astropy file table if a ``table_path_out`` is provided."
   ]
  },
  {
   "cell_type": "code",
   "execution_count": null,
   "metadata": {},
   "outputs": [],
   "source": [
    "redfiles = reduce_all(table_path_in='reduction_files_table2.tbl', save_inters=False,\n",
    "                      excl_obj_strs=['109'])"
   ]
  },
  {
   "cell_type": "markdown",
   "metadata": {},
   "source": [
    "Displays all reduced files."
   ]
  },
  {
   "cell_type": "code",
   "execution_count": null,
   "metadata": {},
   "outputs": [],
   "source": [
    "display_many_nickel(redfiles)"
   ]
  },
  {
   "cell_type": "markdown",
   "metadata": {},
   "source": [
    "The reduced images can also be viewed in DS9.\n",
    "\n",
    "Reduction does not sufficiently work for a few select \"bad columns\", which may be saturated or otherwise affected. These columns are specified in ``nickelpipeline.convenience.nickel_data``, and are masked."
   ]
  }
 ],
 "metadata": {
  "language_info": {
   "name": "python"
  }
 },
 "nbformat": 4,
 "nbformat_minor": 2
}
